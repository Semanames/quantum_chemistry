{
 "cells": [
  {
   "cell_type": "markdown",
   "metadata": {},
   "source": [
    "# Self Consistent Field Calculation Interface"
   ]
  },
  {
   "cell_type": "markdown",
   "metadata": {},
   "source": [
    "This notebook is an interface to handle the SCF calculation and also for visualization of the results"
   ]
  },
  {
   "cell_type": "markdown",
   "metadata": {},
   "source": [
    "At first we would like to import the main modules and packages which we will need for our purposes.\\\n",
    "`ExecutorSCF` is class responsible for calculation of the SCF procedure.\\\n",
    "`ExecutorSCF.run_calculation` returns an object which carries the state of converged calculation.\\\n",
    "`OutputHandlerSCF` is responsible for manipulation of object returned by the `ExecutorSCF.run_calculation`"
   ]
  },
  {
   "cell_type": "code",
   "execution_count": 1,
   "metadata": {},
   "outputs": [],
   "source": [
    "import numpy as np\n",
    "import json\n",
    "from SCF_method.calculation_executor import ExecutorSCF\n",
    "from SCF_method.output_handler import OutputHandlerSCF"
   ]
  },
  {
   "cell_type": "markdown",
   "metadata": {},
   "source": [
    "Input object for the `ExecutorSCF` initialization is input dictionary\\\n",
    "Input dictionary can be easily obtained from the json file as some human readable data container\\\n",
    "To obtain the data for calculation we wil use this script:"
   ]
  },
  {
   "cell_type": "code",
   "execution_count": 2,
   "metadata": {},
   "outputs": [
    {
     "data": {
      "text/plain": [
       "{'molecule_definition': {'nuclei_positions': [[0, 0, 0.70053],\n",
       "   [0, 0, -0.70053]],\n",
       "  'atomic_numbers': [1, 1],\n",
       "  'number_of_electrons': 2},\n",
       " 'basis': {'type': 'gaussian',\n",
       "  'params': {'alphas': [4.3448, 0.66049, 0.13669],\n",
       "   'nuclei_positions': [[0, 0, 0.70053], [0, 0, -0.70053]],\n",
       "   'normalization_factors': [[1, 1, 1], [1, 1, 1]]}},\n",
       " 'integration_config': {'type': 'MC',\n",
       "  'n_samples': 50000000,\n",
       "  'boundaries': [-7, 7]},\n",
       " 'convergence_config': {'max_iteration': 100,\n",
       "  'averaging': True,\n",
       "  'delta': 1e-06}}"
      ]
     },
     "execution_count": 2,
     "metadata": {},
     "output_type": "execute_result"
    }
   ],
   "source": [
    "with open('SCF_method\\input_data\\H2_gaussian.json') as input_file:\n",
    "    input_dict = json.load(input_file)\n",
    "input_dict"
   ]
  },
  {
   "cell_type": "markdown",
   "metadata": {},
   "source": [
    "As we can see, input data consists of:\n",
    "- molecular data \n",
    "- data about the basis set\n",
    "- integration data \n",
    "- convergence data "
   ]
  },
  {
   "cell_type": "markdown",
   "metadata": {},
   "source": [
    "Molecular data has information about the molecule itself:\n",
    "- nuclei positions (set of coordinates for particular nuclei)\n",
    "- atomic numbers of nuclei in molecule(set of integers arranged in the same way as nuclei positions)\n",
    "- number of electrons (total number of electrons present in given molecule system)"
   ]
  },
  {
   "cell_type": "markdown",
   "metadata": {},
   "source": [
    "In our case we have chosen hydrogen molecule H2 with two hydrogen nuclei 1.41 atomic units appart and with two electrons "
   ]
  },
  {
   "cell_type": "markdown",
   "metadata": {},
   "source": [
    "Basis data carries information about the basis set used for calculation: \n",
    "- type of basis functions (gaussian, fourier, ... )\n",
    "- parameters specific for given type of basis"
   ]
  },
  {
   "cell_type": "markdown",
   "metadata": {},
   "source": [
    "Gaussian type of basis was chosen also in our hydrogen molecule case"
   ]
  },
  {
   "cell_type": "markdown",
   "metadata": {},
   "source": [
    "Integration config data carries information for init of integrators for molecular integrals: \n",
    "- type of integration (Monte Carlo, Scipy, ... )\n",
    "- parameters specific for given integration method ( for Monte Carlo it is number of samples and boundaries of integration domain )"
   ]
  },
  {
   "cell_type": "markdown",
   "metadata": {},
   "source": [
    "In our case we have used Monte Carlo integration for conveniet multi-dimensional integration"
   ]
  },
  {
   "cell_type": "markdown",
   "metadata": {},
   "source": [
    "Convergence config data carries information about convergence of SCF procedure consideration: \n",
    "- maximum number of iterations to cut the procedure\n",
    "- averaging flag for the cases when procedure is adly convergent and oscilating ( This is also our case )\n",
    "- delta parameter, which is the level of convergence where we should stop iteration process"
   ]
  },
  {
   "cell_type": "markdown",
   "metadata": {},
   "source": [
    "All from the mentioned data information are stored in the appropriate data objects during `ExecutorSCF` initialization:"
   ]
  },
  {
   "cell_type": "code",
   "execution_count": 3,
   "metadata": {},
   "outputs": [
    {
     "name": "stderr",
     "output_type": "stream",
     "text": [
      "2021-01-07 05:48:02 [INFO] [calculation_executor.py:23] Preparing input data\n",
      "2021-01-07 05:48:02 [INFO] [calculation_executor.py:24] Initializing molecule\n",
      "2021-01-07 05:48:02 [INFO] [calculation_executor.py:26] Initializing basis set\n",
      "2021-01-07 05:48:02 [INFO] [calculation_executor.py:28] Initializing integrators\n"
     ]
    }
   ],
   "source": [
    "scf_exec = ExecutorSCF(input_dict)"
   ]
  },
  {
   "cell_type": "markdown",
   "metadata": {},
   "source": [
    "The calculation itself consists of calculation of molecular integrals:\n",
    "- Overlap integral $\\int \\phi_{\\nu}^\\star \\phi_{\\mu} \\,dr $\n",
    "- Kinetic energy integral $\\int \\phi_{\\nu}^\\star \\Delta \\phi_{\\mu} \\,dr $\n",
    "- Nuclear potential energy integral $\\int \\phi_{\\nu}^\\star \\sum_{a} \\frac{-Z_{a}}{|r-R_{a}|} \\phi_{\\mu} \\,dr $\n",
    "- Two electron potential energy integral $\\int \\phi_{\\nu}^\\star(1)\\phi_{\\mu}(1) \\frac{1}{|r_{1} - r_{2}|} \\phi_{\\lambda}^\\star(2)\\phi_{\\sigma}(2) \\,dr_{1}dr_{2} $"
   ]
  },
  {
   "cell_type": "markdown",
   "metadata": {},
   "source": [
    "Using these integrals we will run iterative SCF precedure described in:\\\n",
    "`Attila Szabo, Neil S. Ostlund; Modern Quantum Chemistry; page 146`"
   ]
  },
  {
   "cell_type": "markdown",
   "metadata": {},
   "source": [
    "The whole procedure we can run using `ExecutorSCF.run_calculation`"
   ]
  },
  {
   "cell_type": "code",
   "execution_count": 4,
   "metadata": {},
   "outputs": [
    {
     "name": "stderr",
     "output_type": "stream",
     "text": [
      "2021-01-07 05:48:06 [INFO] [overlap_matrix.py:25] Calculating S - orbital overlap matrix\n",
      "2021-01-07 05:49:45 [INFO] [overlap_matrix.py:57] Basis renormalization with coeffs: [0.46889998 1.91513904 6.24302686 0.4675504  1.91477689 6.24248182]\n",
      "2021-01-07 05:49:45 [INFO] [kinetic_energy_matrix.py:31] Calculating T - kinetic energy matrix\n",
      "2021-01-07 05:59:42 [INFO] [nuclear_attraction_matrix.py:29] Calculating V_nuc - nuclear attraction matrix\n",
      "2021-01-07 06:02:51 [INFO] [two_electron_integral_matrix.py:26] Calculating mnls - two electron integral matrix\n",
      "2021-01-07 06:50:51 [INFO] [procedure.py:56] Running iterative SCF procedure\n",
      "2021-01-07 06:50:51 [INFO] [calculation_iterator.py:113] Convergence factor is 0.7444423988576394\n",
      "2021-01-07 06:50:51 [INFO] [calculation_iterator.py:113] Convergence factor is 1.1082767452384175\n",
      "2021-01-07 06:50:51 [INFO] [calculation_iterator.py:113] Convergence factor is 0.8350794064129369\n",
      "2021-01-07 06:50:51 [INFO] [calculation_iterator.py:113] Convergence factor is 0.8484042998081127\n",
      "2021-01-07 06:50:51 [INFO] [calculation_iterator.py:113] Convergence factor is 0.5272778887506421\n",
      "2021-01-07 06:50:51 [INFO] [calculation_iterator.py:113] Convergence factor is 1.1335100183711138\n",
      "2021-01-07 06:50:51 [INFO] [calculation_iterator.py:113] Convergence factor is 0.6608583768747368\n",
      "2021-01-07 06:50:51 [INFO] [calculation_iterator.py:113] Convergence factor is 0.4760089645067329\n",
      "2021-01-07 06:50:51 [INFO] [calculation_iterator.py:113] Convergence factor is 0.35938044404275854\n",
      "2021-01-07 06:50:51 [INFO] [calculation_iterator.py:113] Convergence factor is 1.2333923951507784\n",
      "2021-01-07 06:50:51 [INFO] [calculation_iterator.py:113] Convergence factor is 0.6380417362057123\n",
      "2021-01-07 06:50:51 [INFO] [calculation_iterator.py:113] Convergence factor is 0.45966865538512425\n",
      "2021-01-07 06:50:51 [INFO] [calculation_iterator.py:113] Convergence factor is 0.3594681180280372\n",
      "2021-01-07 06:50:51 [INFO] [calculation_iterator.py:113] Convergence factor is 1.232136274721983\n",
      "2021-01-07 06:50:51 [INFO] [calculation_iterator.py:113] Convergence factor is 0.6436509449151641\n",
      "2021-01-07 06:50:51 [INFO] [calculation_iterator.py:113] Convergence factor is 0.46634925819781764\n",
      "2021-01-07 06:50:51 [INFO] [calculation_iterator.py:113] Convergence factor is 0.35978528750753974\n",
      "2021-01-07 06:50:51 [INFO] [calculation_iterator.py:113] Convergence factor is 1.232841689801101\n",
      "2021-01-07 06:50:51 [INFO] [calculation_iterator.py:113] Convergence factor is 0.6407460437332145\n",
      "2021-01-07 06:50:51 [INFO] [calculation_iterator.py:113] Convergence factor is 0.4632932108522478\n",
      "2021-01-07 06:50:51 [INFO] [calculation_iterator.py:113] Convergence factor is 0.35960061787464653\n",
      "2021-01-07 06:50:51 [INFO] [calculation_iterator.py:113] Convergence factor is 1.232595733749021\n",
      "2021-01-07 06:50:51 [INFO] [calculation_iterator.py:113] Convergence factor is 0.6419332169836445\n",
      "2021-01-07 06:50:51 [INFO] [calculation_iterator.py:113] Convergence factor is 0.4645857205610042\n",
      "2021-01-07 06:50:51 [INFO] [calculation_iterator.py:113] Convergence factor is 0.359674583165234\n",
      "2021-01-07 06:50:51 [INFO] [calculation_iterator.py:113] Convergence factor is 1.232708105118691\n",
      "2021-01-07 06:50:51 [INFO] [calculation_iterator.py:113] Convergence factor is 0.6414130377029191\n",
      "2021-01-07 06:50:51 [INFO] [calculation_iterator.py:113] Convergence factor is 0.46402680174542515\n",
      "2021-01-07 06:50:51 [INFO] [calculation_iterator.py:113] Convergence factor is 0.3596420690590511\n",
      "2021-01-07 06:50:51 [INFO] [calculation_iterator.py:113] Convergence factor is 1.2326607503557954\n",
      "2021-01-07 06:50:51 [INFO] [calculation_iterator.py:113] Convergence factor is 0.6416349856831681\n",
      "2021-01-07 06:50:51 [INFO] [calculation_iterator.py:113] Convergence factor is 0.46426658621364786\n",
      "2021-01-07 06:50:51 [INFO] [calculation_iterator.py:113] Convergence factor is 0.35965592902240406\n",
      "2021-01-07 06:50:51 [INFO] [calculation_iterator.py:113] Convergence factor is 1.2326812811634793\n",
      "2021-01-07 06:50:51 [INFO] [calculation_iterator.py:113] Convergence factor is 0.641539233336926\n",
      "2021-01-07 06:50:51 [INFO] [calculation_iterator.py:113] Convergence factor is 0.4641633802808951\n",
      "2021-01-07 06:50:51 [INFO] [calculation_iterator.py:113] Convergence factor is 0.3596499482770536\n",
      "2021-01-07 06:50:51 [INFO] [calculation_iterator.py:113] Convergence factor is 1.2326724830852995\n",
      "2021-01-07 06:50:51 [INFO] [calculation_iterator.py:113] Convergence factor is 0.6415803488147546\n",
      "2021-01-07 06:50:51 [INFO] [calculation_iterator.py:113] Convergence factor is 0.46420774073756144\n",
      "2021-01-07 06:50:51 [INFO] [calculation_iterator.py:113] Convergence factor is 0.3596525161585747\n",
      "2021-01-07 06:50:51 [INFO] [calculation_iterator.py:113] Convergence factor is 1.2326762718179385\n",
      "2021-01-07 06:50:51 [INFO] [calculation_iterator.py:113] Convergence factor is 0.641562658418356\n",
      "2021-01-07 06:50:51 [INFO] [calculation_iterator.py:113] Convergence factor is 0.4641886623802784\n",
      "2021-01-07 06:50:51 [INFO] [calculation_iterator.py:113] Convergence factor is 0.3596514112651143\n",
      "2021-01-07 06:50:51 [INFO] [calculation_iterator.py:113] Convergence factor is 1.2326746436845333\n",
      "2021-01-07 06:50:51 [INFO] [calculation_iterator.py:113] Convergence factor is 0.641570263314528\n",
      "2021-01-07 06:50:51 [INFO] [calculation_iterator.py:113] Convergence factor is 0.46419686546539357\n",
      "2021-01-07 06:50:51 [INFO] [calculation_iterator.py:113] Convergence factor is 0.3596518862398757\n",
      "2021-01-07 06:50:51 [INFO] [calculation_iterator.py:113] Convergence factor is 1.2326753439718596\n",
      "2021-01-07 06:50:51 [INFO] [calculation_iterator.py:113] Convergence factor is 0.6415669928390644\n",
      "2021-01-07 06:50:51 [INFO] [calculation_iterator.py:113] Convergence factor is 0.4641933380208207\n",
      "2021-01-07 06:50:51 [INFO] [calculation_iterator.py:113] Convergence factor is 0.3596516819765147\n",
      "2021-01-07 06:50:51 [INFO] [calculation_iterator.py:113] Convergence factor is 1.2326750428829438\n",
      "2021-01-07 06:50:51 [INFO] [calculation_iterator.py:113] Convergence factor is 0.6415683990772842\n",
      "2021-01-07 06:50:51 [INFO] [calculation_iterator.py:113] Convergence factor is 0.46419485480255057\n",
      "2021-01-07 06:50:51 [INFO] [calculation_iterator.py:113] Convergence factor is 0.3596517698054174\n",
      "2021-01-07 06:50:51 [INFO] [calculation_iterator.py:113] Convergence factor is 1.2326751723577858\n",
      "2021-01-07 06:50:51 [INFO] [calculation_iterator.py:113] Convergence factor is 0.6415677943816525\n",
      "2021-01-07 06:50:51 [INFO] [calculation_iterator.py:113] Convergence factor is 0.46419420258178606\n",
      "2021-01-07 06:50:51 [INFO] [calculation_iterator.py:113] Convergence factor is 0.3596517320381302\n",
      "2021-01-07 06:50:51 [INFO] [calculation_iterator.py:113] Convergence factor is 1.232675116684738\n",
      "2021-01-07 06:50:51 [INFO] [calculation_iterator.py:113] Convergence factor is 0.6415680543987425\n",
      "2021-01-07 06:50:51 [INFO] [calculation_iterator.py:113] Convergence factor is 0.46419448303630495\n",
      "2021-01-07 06:50:51 [INFO] [calculation_iterator.py:113] Convergence factor is 0.3596517482779323\n",
      "2021-01-07 06:50:51 [INFO] [calculation_iterator.py:113] Convergence factor is 1.2326751406243954\n",
      "2021-01-07 06:50:51 [INFO] [calculation_iterator.py:113] Convergence factor is 0.6415679425908436\n",
      "2021-01-07 06:50:51 [INFO] [calculation_iterator.py:113] Convergence factor is 0.46419436244059825\n",
      "2021-01-07 06:50:51 [INFO] [calculation_iterator.py:113] Convergence factor is 0.35965174129478\n",
      "2021-01-07 06:50:51 [INFO] [calculation_iterator.py:113] Convergence factor is 1.2326751303303727\n",
      "2021-01-07 06:50:51 [INFO] [calculation_iterator.py:113] Convergence factor is 0.6415679906682117\n",
      "2021-01-07 06:50:51 [INFO] [calculation_iterator.py:113] Convergence factor is 0.46419441429678115\n",
      "2021-01-07 06:50:51 [INFO] [calculation_iterator.py:113] Convergence factor is 0.3596517442975322\n",
      "2021-01-07 06:50:51 [INFO] [calculation_iterator.py:113] Convergence factor is 1.2326751347568146\n",
      "2021-01-07 06:50:51 [INFO] [calculation_iterator.py:113] Convergence factor is 0.6415679699949084\n",
      "2021-01-07 06:50:51 [INFO] [calculation_iterator.py:113] Convergence factor is 0.46419439199859497\n",
      "2021-01-07 06:50:51 [INFO] [calculation_iterator.py:113] Convergence factor is 0.3596517430063463\n",
      "2021-01-07 06:50:51 [INFO] [calculation_iterator.py:113] Convergence factor is 1.2326751328534442\n"
     ]
    },
    {
     "name": "stderr",
     "output_type": "stream",
     "text": [
      "2021-01-07 06:50:51 [INFO] [calculation_iterator.py:113] Convergence factor is 0.6415679788844336\n",
      "2021-01-07 06:50:51 [INFO] [calculation_iterator.py:113] Convergence factor is 0.4641944015868188\n",
      "2021-01-07 06:50:51 [INFO] [calculation_iterator.py:113] Convergence factor is 0.359651743561557\n",
      "2021-01-07 06:50:51 [INFO] [calculation_iterator.py:113] Convergence factor is 1.2326751336718937\n",
      "2021-01-07 06:50:51 [INFO] [calculation_iterator.py:113] Convergence factor is 0.6415679750619343\n",
      "2021-01-07 06:50:51 [INFO] [calculation_iterator.py:113] Convergence factor is 0.4641943974638767\n",
      "2021-01-07 06:50:51 [INFO] [calculation_iterator.py:113] Convergence factor is 0.35965174332281447\n",
      "2021-01-07 06:50:51 [INFO] [calculation_iterator.py:113] Convergence factor is 1.2326751333199604\n",
      "2021-01-07 06:50:51 [INFO] [calculation_iterator.py:113] Convergence factor is 0.64156797670561\n",
      "2021-01-07 06:50:51 [INFO] [calculation_iterator.py:113] Convergence factor is 0.46419439923674355\n",
      "2021-01-07 06:50:51 [INFO] [calculation_iterator.py:113] Convergence factor is 0.35965174342547546\n",
      "2021-01-07 06:50:51 [INFO] [calculation_iterator.py:113] Convergence factor is 1.232675133471292\n",
      "2021-01-07 06:50:51 [INFO] [calculation_iterator.py:113] Convergence factor is 0.6415679759988316\n",
      "2021-01-07 06:50:51 [INFO] [calculation_iterator.py:113] Convergence factor is 0.4641943984744143\n",
      "2021-01-07 06:50:51 [INFO] [calculation_iterator.py:113] Convergence factor is 0.35965174338133266\n",
      "2021-01-07 06:50:51 [INFO] [calculation_iterator.py:113] Convergence factor is 1.2326751334062196\n",
      "2021-01-07 06:50:51 [INFO] [calculation_iterator.py:113] Convergence factor is 0.6415679763027455\n",
      "2021-01-07 06:50:51 [INFO] [calculation_iterator.py:113] Convergence factor is 0.4641943988022132\n",
      "2021-01-07 06:50:51 [INFO] [calculation_iterator.py:113] Convergence factor is 0.35965174340031475\n",
      "2021-01-07 06:50:51 [INFO] [calculation_iterator.py:113] Convergence factor is 1.2326751334342005\n",
      "2021-01-07 06:50:51 [INFO] [calculation_iterator.py:113] Convergence factor is 0.6415679761720622\n",
      "2021-01-07 06:50:51 [INFO] [calculation_iterator.py:113] Convergence factor is 0.46419439866126166\n",
      "2021-01-07 06:50:51 [INFO] [calculation_iterator.py:119] SCF procedure reached 100 iterations: Iteration stopped\n",
      "2021-01-07 06:50:51 [INFO] [calculation_executor.py:53] SCF procedure succesfull\n"
     ]
    }
   ],
   "source": [
    "scf_final_state = scf_exec.run_calculation()"
   ]
  },
  {
   "cell_type": "markdown",
   "metadata": {},
   "source": [
    "After the calculation (which may take several hours :-) ) we can push the calculated object into the `OutputHandlerSCF` with the given basis"
   ]
  },
  {
   "cell_type": "code",
   "execution_count": 5,
   "metadata": {},
   "outputs": [],
   "source": [
    "scf_handler = OutputHandlerSCF(scf_final_state, scf_exec.basis)"
   ]
  },
  {
   "cell_type": "markdown",
   "metadata": {},
   "source": [
    "Hadler can help us to investigate quantities of our interest"
   ]
  },
  {
   "cell_type": "markdown",
   "metadata": {},
   "source": [
    "# One electron energies"
   ]
  },
  {
   "cell_type": "code",
   "execution_count": 6,
   "metadata": {},
   "outputs": [
    {
     "data": {
      "text/plain": [
       "array([6.85507931, 7.42594877, 1.48693094, 0.90565136, 0.10515025,\n",
       "       0.36011465])"
      ]
     },
     "execution_count": 6,
     "metadata": {},
     "output_type": "execute_result"
    }
   ],
   "source": [
    "E_electron = scf_handler.electron_energies()\n",
    "E_electron"
   ]
  },
  {
   "cell_type": "markdown",
   "metadata": {},
   "source": [
    "# Electron density matrix"
   ]
  },
  {
   "cell_type": "code",
   "execution_count": 7,
   "metadata": {},
   "outputs": [
    {
     "data": {
      "text/plain": [
       "array([[ 2.09964, -1.57916,  0.70922,  0.73376, -0.33869, -0.08813],\n",
       "       [-1.57916,  1.20862, -0.55743, -0.42233,  0.15228,  0.11631],\n",
       "       [ 0.70922, -0.55743,  0.26778,  0.09316,  0.00734, -0.08917],\n",
       "       [ 0.73376, -0.42233,  0.09316,  1.11358, -0.79076,  0.29712],\n",
       "       [-0.33869,  0.15228,  0.00734, -0.79076,  0.58262, -0.24332],\n",
       "       [-0.08813,  0.11631, -0.08917,  0.29712, -0.24332,  0.12932]])"
      ]
     },
     "execution_count": 7,
     "metadata": {},
     "output_type": "execute_result"
    }
   ],
   "source": [
    "np.round(scf_handler.electron_density_matrix(), 5)"
   ]
  },
  {
   "cell_type": "markdown",
   "metadata": {},
   "source": [
    "# Fock matrix"
   ]
  },
  {
   "cell_type": "code",
   "execution_count": 8,
   "metadata": {},
   "outputs": [
    {
     "data": {
      "text/plain": [
       "array([[ 4.63199,  0.41728, -0.06676, -0.41325, -0.13792, -0.07394],\n",
       "       [ 0.41728,  0.80707,  0.15386, -0.08807,  0.14764,  0.0779 ],\n",
       "       [-0.06676,  0.15386,  0.15408, -0.06711,  0.04104,  0.08995],\n",
       "       [-0.41325, -0.08807, -0.06711,  4.9475 ,  0.31491, -0.12302],\n",
       "       [-0.13792,  0.14764,  0.04104,  0.31491,  0.57547,  0.05473],\n",
       "       [-0.07394,  0.0779 ,  0.08995, -0.12302,  0.05473,  0.11737]])"
      ]
     },
     "execution_count": 8,
     "metadata": {},
     "output_type": "execute_result"
    }
   ],
   "source": [
    "np.round(scf_handler.fock_matrix(), 5)"
   ]
  },
  {
   "cell_type": "markdown",
   "metadata": {},
   "source": [
    "# C matrix"
   ]
  },
  {
   "cell_type": "code",
   "execution_count": 9,
   "metadata": {},
   "outputs": [
    {
     "data": {
      "text/plain": [
       "array([[-1.24797e+00, -1.60520e-01,  1.19000e-03, -3.84600e-02,\n",
       "         3.00800e-02, -1.10500e-02],\n",
       "       [ 9.97710e-01,  3.03820e-01,  1.33405e+00, -5.35700e-01,\n",
       "        -7.42200e-02,  8.89300e-02],\n",
       "       [-4.75290e-01, -2.76770e-01, -1.30223e+00,  1.75700e-02,\n",
       "         2.70280e-01, -2.08781e+00],\n",
       "       [-2.03210e-01,  1.24193e+00,  1.21900e-02, -1.15500e-02,\n",
       "         2.60200e-02,  2.11600e-02],\n",
       "       [ 2.45000e-03, -1.02574e+00, -1.05664e+00, -9.92520e-01,\n",
       "         4.12400e-02,  8.94700e-02],\n",
       "       [ 1.50490e-01,  5.09880e-01,  1.17174e+00,  9.46110e-01,\n",
       "         7.59100e-01,  1.81640e+00]])"
      ]
     },
     "execution_count": 9,
     "metadata": {},
     "output_type": "execute_result"
    }
   ],
   "source": [
    "np.round(scf_handler.coeff_matrix(), 5)"
   ]
  },
  {
   "cell_type": "markdown",
   "metadata": {},
   "source": [
    "# Electron density"
   ]
  },
  {
   "cell_type": "code",
   "execution_count": 10,
   "metadata": {},
   "outputs": [],
   "source": [
    "electron_density = scf_handler.electron_density()"
   ]
  },
  {
   "cell_type": "code",
   "execution_count": 11,
   "metadata": {},
   "outputs": [
    {
     "name": "stdout",
     "output_type": "stream",
     "text": [
      "Populating the interactive namespace from numpy and matplotlib\n"
     ]
    },
    {
     "data": {
      "image/png": "[encoded data removed]",
      "text/plain": [
       "<Figure size 432x288 with 1 Axes>"
      ]
     },
     "metadata": {
      "needs_background": "light"
     },
     "output_type": "display_data"
    }
   ],
   "source": [
    "%pylab inline\n",
    "z = np.linspace(-2,2, 300)\n",
    "r = np.zeros([300,3])\n",
    "r[:,-1] = z\n",
    "\n",
    "import matplotlib.pyplot as plt \n",
    "fig, ax = plt.subplots()\n",
    "\n",
    "plot(z,electron_density(r), color='orangered', label=\"electron density\")\n",
    "ax.set_xlabel(r'$z$', fontsize=12)\n",
    "ax.set_ylabel(r'$density$', fontsize=12)\n",
    "ax.set_title('Electron density')\n",
    "ax.axvline(0.70053, linestyle='--', linewidth=2., color='black', label=\"nuclei positions\")\n",
    "ax.axvline(-0.70053, linestyle='--', linewidth=2., color='black')\n",
    "ax.grid(True)\n",
    "ax.set_xlim([-2,2])\n",
    "ax.legend(loc=1); "
   ]
  },
  {
   "cell_type": "markdown",
   "metadata": {},
   "source": [
    "Cross-check whether the integration of electron density is equal number of electrons"
   ]
  },
  {
   "cell_type": "code",
   "execution_count": null,
   "metadata": {},
   "outputs": [],
   "source": [
    "scf_exec.integrator_3D.integrate(electron_density)"
   ]
  },
  {
   "cell_type": "markdown",
   "metadata": {},
   "source": [
    "# Summary"
   ]
  },
  {
   "cell_type": "markdown",
   "metadata": {},
   "source": [
    "I have implemented the SCF procedure in python programing language. Python has several performance bugs, therefore it is not always sufficient for high performance computing tasks."
   ]
  },
  {
   "cell_type": "markdown",
   "metadata": {},
   "source": [
    "Nevertheless There is plenty of space for refactoring and optimization. Using scipy multidimensional integrators `scipy.integrate.nquad` took quite a long time, but maybe customizing it kwargs would also help in the future. "
   ]
  },
  {
   "cell_type": "markdown",
   "metadata": {},
   "source": [
    "Code should be open to extensions for other types of basis and types of integrators."
   ]
  },
  {
   "cell_type": "markdown",
   "metadata": {},
   "source": [
    "Calculation of our given system of H2 hydrogen molecule suffered from oscilating of the results. Also the given electron density is not satisfactory (We expected symetric electron density). The main cause was probably due to imperfectly computed two electron integrals which were significantly memory and performance consuming tasks."
   ]
  }
 ],
 "metadata": {
  "kernelspec": {
   "display_name": "Python 3",
   "language": "python",
   "name": "python3"
  },
  "language_info": {
   "codemirror_mode": {
    "name": "ipython",
    "version": 3
   },
   "file_extension": ".py",
   "mimetype": "text/x-python",
   "name": "python",
   "nbconvert_exporter": "python",
   "pygments_lexer": "ipython3",
   "version": "3.7.9"
  }
 },
 "nbformat": 4,
 "nbformat_minor": 4
}
